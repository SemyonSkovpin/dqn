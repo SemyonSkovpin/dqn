{
 "cells": [
  {
   "cell_type": "code",
   "execution_count": null,
   "id": "785efaec-f5f5-49a3-9e06-c640057bc47e",
   "metadata": {},
   "outputs": [],
   "source": [
    "import torch\n",
    "import torch.nn as nn\n",
    "import torch.optim as optim\n",
    "import numpy as np\n",
    "import gymnasium as gym\n",
    "from collections import deque\n",
    "import random"
   ]
  },
  {
   "cell_type": "code",
   "execution_count": null,
   "id": "1561d4d2-a123-4027-8dec-c6d77012be0a",
   "metadata": {},
   "outputs": [],
   "source": [
    "# Parameters\n",
    "env_name = \"CartPole-v1\"\n",
    "timesteps_before_update = 1000\n",
    "updates_before_target_update = 5\n",
    "epsilon = 0.1\n",
    "gamma = 0.99\n",
    "lr = 1e-2\n",
    "buffer_size = 100_000\n",
    "batch_fraction = 0.2  # 20%\n",
    "seed = 42"
   ]
  },
  {
   "cell_type": "code",
   "execution_count": null,
   "id": "2b6ea10f-222e-47d8-98b3-ca341f4e34cf",
   "metadata": {},
   "outputs": [],
   "source": [
    "# Environment and seeds\n",
    "env = gym.make(env_name)\n",
    "np.random.seed(seed)\n",
    "torch.manual_seed(seed)\n",
    "random.seed(seed)\n",
    "obs_dim = env.observation_space.shape[0]\n",
    "n_actions = env.action_space.n"
   ]
  },
  {
   "cell_type": "code",
   "execution_count": null,
   "id": "2600d1a1-0aa3-43f7-a445-5e9fe32b2911",
   "metadata": {},
   "outputs": [],
   "source": [
    "class QNet(nn.Module):\n",
    "    def __init__(self, obs_dim, n_actions):\n",
    "        super().__init__()\n",
    "        self.net = nn.Sequential(\n",
    "            nn.Linear(obs_dim, 128),\n",
    "            nn.ReLU(),\n",
    "            nn.Linear(128, n_actions)\n",
    "        )\n",
    "\n",
    "    def forward(self, x):\n",
    "        return self.net(x)\n",
    "\n",
    "def copy_weights(target, source):\n",
    "    target.load_state_dict(source.state_dict())"
   ]
  },
  {
   "cell_type": "code",
   "execution_count": null,
   "id": "2e5253e1-d77b-4e64-b39c-4a88271f6ccd",
   "metadata": {},
   "outputs": [],
   "source": [
    "class ReplayBuffer:\n",
    "    def __init__(self, maxlen):\n",
    "        self.buffer = deque(maxlen=maxlen)\n",
    "    def add(self, state, action, reward, next_state, done):\n",
    "        self.buffer.append((state, action, reward, next_state, done))\n",
    "    def sample(self, fraction):\n",
    "        n = int(len(self.buffer) * fraction)\n",
    "        return random.sample(self.buffer, n)\n",
    "    def __len__(self):\n",
    "        return len(self.buffer)\n",
    "\n",
    "buffer = ReplayBuffer(buffer_size)"
   ]
  },
  {
   "cell_type": "code",
   "execution_count": null,
   "id": "411c2503-3695-47a9-a446-f1425ab714a1",
   "metadata": {},
   "outputs": [],
   "source": [
    "# Main & target tet initialization\n",
    "q_net = QNet(obs_dim, n_actions)\n",
    "target_q_net = QNet(obs_dim, n_actions)\n",
    "copy_weights(target_q_net, q_net)\n",
    "optimizer = optim.Adam(q_net.parameters(), lr=lr)\n",
    "loss_fn = nn.MSELoss()"
   ]
  },
  {
   "cell_type": "code",
   "execution_count": null,
   "id": "8dca5b64-8699-4b61-ad70-270feab3a525",
   "metadata": {},
   "outputs": [],
   "source": [
    "# Training loop\n",
    "global_step = 0\n",
    "update_step = 0\n",
    "\n",
    "state, _ = env.reset(seed=seed)\n",
    "episode_reward = 0\n",
    "\n",
    "print(\"Starting training. Interrupt this cell to stop.\")\n",
    "\n",
    "while True:\n",
    "    # Epsilon-greedy action selection\n",
    "    if np.random.rand() < epsilon:\n",
    "        action = env.action_space.sample()\n",
    "    else:\n",
    "        with torch.no_grad():\n",
    "            state_tensor = torch.tensor(state, dtype=torch.float32).unsqueeze(0)\n",
    "            q_vals = q_net(state_tensor)\n",
    "            action = q_vals.argmax(dim=1).item()\n",
    "\n",
    "    # Step environment\n",
    "    next_state, reward, terminated, truncated, _ = env.step(action)\n",
    "    done = terminated or truncated\n",
    "    buffer.add(state, action, reward, next_state, done)\n",
    "    state = next_state\n",
    "    episode_reward += reward\n",
    "    global_step += 1\n",
    "\n",
    "    if done:\n",
    "        state, _ = env.reset()\n",
    "        print(f\"Episode finished, reward: {episode_reward}, steps: {global_step}\")\n",
    "        episode_reward = 0\n",
    "\n",
    "    # Value iteration update every steps_before_update steps\n",
    "    if len(buffer) >= 10 and (global_step % steps_before_update == 0):\n",
    "        batch = buffer.sample(batch_fraction)\n",
    "        states, actions, rewards, next_states, dones = zip(*batch)\n",
    "        states = torch.tensor(np.array(states), dtype=torch.float32)\n",
    "        actions = torch.tensor(actions, dtype=torch.long)\n",
    "        rewards = torch.tensor(rewards, dtype=torch.float32)\n",
    "        next_states = torch.tensor(np.array(next_states), dtype=torch.float32)\n",
    "        dones = torch.tensor(dones, dtype=torch.bool)\n",
    "\n",
    "        # Q(s,a)\n",
    "        q_values = q_net(states).gather(1, actions.unsqueeze(1)).squeeze(1)\n",
    "        # max_a' Q_target(s',a')\n",
    "        with torch.no_grad():\n",
    "            next_q_values = target_q_net(next_states).max(1)[0]\n",
    "            targets = rewards + gamma * next_q_values * (~dones)\n",
    "\n",
    "        loss = loss_fn(q_values, targets)\n",
    "        optimizer.zero_grad()\n",
    "        loss.backward()\n",
    "        optimizer.step()\n",
    "        update_step += 1\n",
    "\n",
    "    # Target network update\n",
    "    if update_step > 0 and (update_step % updates_before_target_update == 0):\n",
    "        copy_weights(target_q_net, q_net)\n",
    "        print(f\"Target network updated at step {global_step}\")"
   ]
  }
 ],
 "metadata": {
  "kernelspec": {
   "display_name": "Python 3 (ipykernel)",
   "language": "python",
   "name": "python3"
  },
  "language_info": {
   "codemirror_mode": {
    "name": "ipython",
    "version": 3
   },
   "file_extension": ".py",
   "mimetype": "text/x-python",
   "name": "python",
   "nbconvert_exporter": "python",
   "pygments_lexer": "ipython3",
   "version": "3.12.4"
  }
 },
 "nbformat": 4,
 "nbformat_minor": 5
}
